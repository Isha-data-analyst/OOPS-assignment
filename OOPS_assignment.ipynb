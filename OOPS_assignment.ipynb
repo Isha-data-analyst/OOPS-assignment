{
  "nbformat": 4,
  "nbformat_minor": 0,
  "metadata": {
    "colab": {
      "provenance": []
    },
    "kernelspec": {
      "name": "python3",
      "display_name": "Python 3"
    },
    "language_info": {
      "name": "python"
    }
  },
  "cells": [
    {
      "cell_type": "markdown",
      "source": [
        "#Theoretical questions\n",
        "1. What is Object-Oriented Programming (OOP)?\n",
        "\n",
        "Answer: OOP is a programming paradigm based on concepts of \"objects\", which can contain data in the form of fields (often known as attributes or properties) and code in the form of procedures (often known as methods).\n",
        "\n",
        "2. What is a class in OOP?\n",
        "\n",
        "Answer: A class is a blueprint for creating objects. It defines a set of properties and methods that the created objects will have.\n",
        "\n",
        "3. What is an object in OOP?\n",
        "\n",
        "Answer: An object is an instance of a class. It is a specific realization of a class with actual values assigned to its attributes.\n",
        "\n",
        "4. What is the difference between abstraction and encapsulation?\n",
        "\n",
        "Answer: Abstraction hides complex reality behind a simple interface, while encapsulation hides the internal state and requires all interaction to be performed through an object's methods.\n",
        "\n",
        "5. What are dunder methods in Python?\n",
        "\n",
        "Answer: Dunder methods (double underscore methods) are special methods in Python that start and end with double underscores. They are used to implement operator overloading and other special behaviors.\n",
        "\n",
        "6. Explain the concept of inheritance in OOP.\n",
        "\n",
        "Answer: Inheritance is a mechanism where one class acquires the properties and functionalities of another class. It promotes code reusability and hierarchical classification.\n",
        "\n",
        "7. What is polymorphism in OOP?\n",
        "\n",
        "Answer: Polymorphism allows objects of different classes to be treated as objects of a common superclass. It enables the same interface to be used for different underlying forms (data types).\n",
        "\n",
        "8. How is encapsulation achieved in Python?\n",
        "\n",
        "Answer: Encapsulation in Python is achieved using private attributes and methods (denoted by a single underscore) and by using property decorators to control access.\n",
        "\n",
        "9. What is a constructor in Python?\n",
        "\n",
        "Answer: A constructor (__init__) is a special method in a class that is automatically called when an object of the class is created.\n",
        "\n",
        "10. What are class and static methods in Python?\n",
        "\n",
        "Answer: Class methods take the class as the first argument (cls) and can modify class state that applies across all instances. Static methods do not take any specific first argument and are utility methods that don't modify class or instance state.\n",
        "\n",
        "11. What is method overloading in Python?\n",
        "\n",
        "Answer:Python does not support method overloading by default. However, you can achieve similar functionality using default arguments or variable-length arguments.\n",
        "\n",
        "12. What is method overriding in OOP?\n",
        "\n",
        "Answer:Method overriding occurs when a subclass provides a specific implementation of a method that is already defined in its superclass.\n",
        "\n",
        "13. What is a property decorator in Python?\n",
        "\n",
        "Answer:The @property decorator allows you to define methods that can be accessed like attributes, providing a way to control access to the class's attributes.\n",
        "\n",
        "14. Why is polymorphism important in OOP?\n",
        "\n",
        "Answer: Polymorphism allows for more flexible and reusable code. It enables the same interface to be used for different underlying forms, promoting code maintainability and scalability.\n",
        "\n",
        "15. What is an abstract class in Python?\n",
        "\n",
        "Answer: An abstract class is a class that cannot be instantiated and is meant to be subclassed. It can define abstract methods that must be implemented by its subclasses.\n",
        "\n",
        "16. What are the advantages of OOP?\n",
        "\n",
        "Answer: OOP promotes code reusability, modularity, and maintainability. It allows for the creation of complex systems in a more manageable way.\n",
        "\n",
        "17. What is the difference between a class variable and an instance variable?\n",
        "\n",
        "Answer:A class variable is shared across all instances of the class, while an instance variable is unique to each instance.\n",
        "\n",
        "18. What is multiple inheritance in Python?\n",
        "\n",
        "Answer: Multiple inheritance allows a class to inherit attributes and methods from more than one parent class.\n",
        "\n",
        "19. Explain the purpose of __str__ and __repr__ methods in Python.\n",
        "\n",
        "Answer: __str__ returns a human-readable string representation of an object, while __repr__ returns an unambiguous string representation that can be used to recreate the object.\n",
        "\n",
        "20. What is the significance of the super() function in Python?\n",
        "\n",
        "Answer: super() is used to call methods from a parent class, allowing for method overriding and extending the functionality of parent classes.\n",
        "\n",
        "21. What is the significance of the __del__ method in Python?\n",
        "\n",
        "Answer:The __del__ method is a destructor that is called when an object is about to be destroyed. It is used for cleanup activities.\n",
        "\n",
        "22. What is the difference between @staticmethod and @classmethod in Python?\n",
        "\n",
        "Answer: @staticmethod does not take any specific first argument and is a utility method. @classmethod takes the class (cls) as the first argument and can modify class state.\n",
        "\n",
        "23. How does polymorphism work in Python with inheritance?\n",
        "\n",
        "Answer: Polymorphism in Python with inheritance allows a subclass to provide a specific implementation of a method that is already defined in its superclass.\n",
        "\n",
        "24. What is method chaining in Python OOP?\n",
        "\n",
        "Answer: Method chaining allows you to call multiple methods sequentially, each call returning an object that can be used as the input for the next call.\n",
        "\n",
        "25. What is the purpose of the __call__ method in Python?\n",
        "\n",
        "Answer: The __call__ method allows an instance of a class to be called as a function."
      ],
      "metadata": {
        "id": "C8JU4qtGkwYV"
      }
    },
    {
      "cell_type": "markdown",
      "source": [
        "#Practical Questions"
      ],
      "metadata": {
        "id": "zF67U3LAm6TU"
      }
    },
    {
      "cell_type": "code",
      "source": [
        "#Q1: Create a parent class Animal with a method speak() that prints a generic message.\n",
        "#Create a child class Dog that overrides the speak() method to print \"Bark!\".\n",
        "class Animal:\n",
        "    def speak(self):\n",
        "        print(\"This is a generic animal sound.\")\n",
        "\n",
        "class Dog(Animal):\n",
        "    def speak(self):\n",
        "        print(\"Bark!\")\n",
        "\n",
        "dog = Dog()\n",
        "dog.speak()"
      ],
      "metadata": {
        "colab": {
          "base_uri": "https://localhost:8080/"
        },
        "id": "JBo13YP9m99B",
        "outputId": "3abdbf57-5d31-401a-bf81-03b1974a2f1a"
      },
      "execution_count": 1,
      "outputs": [
        {
          "output_type": "stream",
          "name": "stdout",
          "text": [
            "Bark!\n"
          ]
        }
      ]
    },
    {
      "cell_type": "code",
      "source": [
        "#Q2: Write a program to create an abstract class Shape with a method area().\n",
        "#Derive classes Circle and Rectangle from it and implement the area() method in both.\n",
        "from abc import ABC, abstractmethod\n",
        "import math\n",
        "\n",
        "class Shape(ABC):\n",
        "    @abstractmethod\n",
        "    def area(self):\n",
        "        pass\n",
        "\n",
        "class Circle(Shape):\n",
        "    def __init__(self, radius):\n",
        "        self.radius = radius\n",
        "\n",
        "    def area(self):\n",
        "        return math.pi * self.radius ** 2\n",
        "\n",
        "class Rectangle(Shape):\n",
        "    def __init__(self, length, width):\n",
        "        self.length = length\n",
        "        self.width = width\n",
        "\n",
        "    def area(self):\n",
        "        return self.length * self.width\n",
        "\n",
        "circle = Circle(5)\n",
        "rectangle = Rectangle(4, 5)\n",
        "print(f\"Circle area: {circle.area()}\")\n",
        "print(f\"Rectangle area: {rectangle.area()}\")"
      ],
      "metadata": {
        "colab": {
          "base_uri": "https://localhost:8080/"
        },
        "id": "hiLKZuLMnRG8",
        "outputId": "187c4513-44c9-452a-9844-4f090de76323"
      },
      "execution_count": 3,
      "outputs": [
        {
          "output_type": "stream",
          "name": "stdout",
          "text": [
            "Circle area: 78.53981633974483\n",
            "Rectangle area: 20\n"
          ]
        }
      ]
    },
    {
      "cell_type": "code",
      "source": [
        "#Q3:Implement a multi-level inheritance scenario where a class Vehicle has an attribute type.\n",
        "#Derive a class Car and further derive a class ElectricCar that adds a battery attribute.\n",
        "class Vehicle:\n",
        "    def __init__(self, type):\n",
        "        self.type = type\n",
        "\n",
        "class Car(Vehicle):\n",
        "    def __init__(self, type, make):\n",
        "        super().__init__(type)\n",
        "        self.make = make\n",
        "\n",
        "class ElectricCar(Car):\n",
        "    def __init__(self, type, make, battery):\n",
        "        super().__init__(type, make)\n",
        "        self.battery = battery\n",
        "\n",
        "electric_car = ElectricCar(\"Electric\", \"Tesla\", \"Lithium-ion\")\n",
        "print(f\"Type: {electric_car.type}, Make: {electric_car.make}, Battery: {electric_car.battery}\")"
      ],
      "metadata": {
        "colab": {
          "base_uri": "https://localhost:8080/"
        },
        "id": "jgv-1WQwnd4l",
        "outputId": "f8bba849-d125-4943-c441-e412c490dff6"
      },
      "execution_count": 4,
      "outputs": [
        {
          "output_type": "stream",
          "name": "stdout",
          "text": [
            "Type: Electric, Make: Tesla, Battery: Lithium-ion\n"
          ]
        }
      ]
    },
    {
      "cell_type": "code",
      "source": [
        "#Q4: Implement a multi-level inheritance scenario where a class Vehicle has an attribute type.\n",
        "#Derive a class Car and further derive a class ElectricCar that adds a battery attribute.\n",
        "class Vehicle:\n",
        "    def __init__(self, type):\n",
        "        self.type = type\n",
        "\n",
        "class Car(Vehicle):\n",
        "    def __init__(self, type, make):\n",
        "        super().__init__(type)\n",
        "        self.make = make\n",
        "\n",
        "class ElectricCar(Car):\n",
        "    def __init__(self, type, make, battery):\n",
        "        super().__init__(type, make)\n",
        "        self.battery = battery\n",
        "\n",
        "electric_car = ElectricCar(\"Electric\", \"Tesla\", \"Lithium-ion\")\n",
        "print(f\"Type: {electric_car.type}, Make: {electric_car.make}, Battery: {electric_car.battery}\")"
      ],
      "metadata": {
        "colab": {
          "base_uri": "https://localhost:8080/"
        },
        "id": "AzGaeLrNnkJW",
        "outputId": "c5c03a15-539b-474a-db71-2f968a56a362"
      },
      "execution_count": 6,
      "outputs": [
        {
          "output_type": "stream",
          "name": "stdout",
          "text": [
            "Type: Electric, Make: Tesla, Battery: Lithium-ion\n"
          ]
        }
      ]
    },
    {
      "cell_type": "code",
      "source": [
        "#Q5: Write a program to demonstrate encapsulation by creating a class BankAccount with\n",
        "#private attributes balance and methods to deposit, withdraw, and check balance.\n",
        "class BankAccount:\n",
        "    def __init__(self, balance=0):\n",
        "        self.__balance = balance\n",
        "\n",
        "    def deposit(self, amount):\n",
        "        if amount > 0:\n",
        "            self.__balance += amount\n",
        "            print(f\"Deposited {amount}. New balance: {self.__balance}\")\n",
        "        else:\n",
        "            print(\"Invalid deposit amount\")\n",
        "\n",
        "    def withdraw(self, amount):\n",
        "        if 0 < amount <= self.__balance:\n",
        "            self.__balance -= amount\n",
        "            print(f\"Withdrew {amount}. New balance: {self.__balance}\")\n",
        "        else:\n",
        "            print(\"Invalid withdrawal amount\")\n",
        "\n",
        "    def check_balance(self):\n",
        "        print(f\"Current balance: {self.__balance}\")\n",
        "\n",
        "account = BankAccount(100)\n",
        "account.deposit(50)\n",
        "account.withdraw(20)\n",
        "account.check_balance()"
      ],
      "metadata": {
        "colab": {
          "base_uri": "https://localhost:8080/"
        },
        "id": "81d56gBXnzhf",
        "outputId": "df379a08-5129-47f5-a7ce-a0fd0432d74c"
      },
      "execution_count": 7,
      "outputs": [
        {
          "output_type": "stream",
          "name": "stdout",
          "text": [
            "Deposited 50. New balance: 150\n",
            "Withdrew 20. New balance: 130\n",
            "Current balance: 130\n"
          ]
        }
      ]
    },
    {
      "cell_type": "code",
      "source": [
        "#Q6: Demonstrate runtime polymorphism using a method play() in a base class Instrument.\n",
        "#Derive classes Guitar and Piano that implement their own version of play().\n",
        "\n",
        "class Instrument:\n",
        "    def play(self):\n",
        "        print(\"Playing an instrument\")\n",
        "\n",
        "class Guitar(Instrument):\n",
        "    def play(self):\n",
        "        print(\"Playing the guitar\")\n",
        "\n",
        "class Piano(Instrument):\n",
        "    def play(self):\n",
        "        print(\"Playing the piano\")\n",
        "\n",
        "instruments = [Guitar(), Piano()]\n",
        "for instrument in instruments:\n",
        "    instrument.play()"
      ],
      "metadata": {
        "colab": {
          "base_uri": "https://localhost:8080/"
        },
        "id": "v-f3vZWJoK9_",
        "outputId": "05acb59b-db00-450a-9faf-960287f1b691"
      },
      "execution_count": 8,
      "outputs": [
        {
          "output_type": "stream",
          "name": "stdout",
          "text": [
            "Playing the guitar\n",
            "Playing the piano\n"
          ]
        }
      ]
    },
    {
      "cell_type": "code",
      "source": [
        "#Q7: Create a class MathOperations with a class method add_numbers() to add two numbers and a static method subtract_numbers() to subtract two numbers.\n",
        "class MathOperations:\n",
        "    @classmethod\n",
        "    def add_numbers(cls, a, b):\n",
        "        return a + b\n",
        "\n",
        "    @staticmethod\n",
        "    def subtract_numbers(a, b):\n",
        "        return a - b\n",
        "\n",
        "print(MathOperations.add_numbers(5, 3))\n",
        "print(MathOperations.subtract_numbers(5, 3))"
      ],
      "metadata": {
        "colab": {
          "base_uri": "https://localhost:8080/"
        },
        "id": "Eqd4FNKAD1KP",
        "outputId": "39305964-af5d-4e15-e0cb-3059a83bcea1"
      },
      "execution_count": 1,
      "outputs": [
        {
          "output_type": "stream",
          "name": "stdout",
          "text": [
            "8\n",
            "2\n"
          ]
        }
      ]
    },
    {
      "cell_type": "code",
      "source": [
        "#Q8: Implement a class Person with a class method to count the total number of persons created.\n",
        "class Person:\n",
        "    count = 0\n",
        "\n",
        "    def __init__(self, name):\n",
        "        self.name = name\n",
        "        Person.count += 1\n",
        "\n",
        "    @classmethod\n",
        "    def get_count(cls):\n",
        "        return cls.count\n",
        "\n",
        "person1 = Person(\"Alice\")\n",
        "person2 = Person(\"Bob\")\n",
        "print(f\"Total persons: {Person.get_count()}\")"
      ],
      "metadata": {
        "colab": {
          "base_uri": "https://localhost:8080/"
        },
        "id": "BX1vLYraD_4c",
        "outputId": "2bc2f428-b580-4611-ebeb-c91e743baab3"
      },
      "execution_count": 2,
      "outputs": [
        {
          "output_type": "stream",
          "name": "stdout",
          "text": [
            "Total persons: 2\n"
          ]
        }
      ]
    },
    {
      "cell_type": "code",
      "source": [
        "#Q9: Write a class Fraction with attributes numerator and denominator. Override the str method to display the fraction as \"numerator/denominator\".\n",
        "class Fraction:\n",
        "    def __init__(self, numerator, denominator):\n",
        "        self.numerator = numerator\n",
        "        self.denominator = denominator\n",
        "\n",
        "    def __str__(self):\n",
        "        return f\"{self.numerator}/{self.denominator}\"\n",
        "\n",
        "fraction = Fraction(1, 2)\n",
        "print(fraction)"
      ],
      "metadata": {
        "colab": {
          "base_uri": "https://localhost:8080/"
        },
        "id": "CLabcMusEFaW",
        "outputId": "e3cfa35e-24b9-45c1-bb0f-668d75ea6f22"
      },
      "execution_count": 3,
      "outputs": [
        {
          "output_type": "stream",
          "name": "stdout",
          "text": [
            "1/2\n"
          ]
        }
      ]
    },
    {
      "cell_type": "code",
      "source": [
        "#Q10: Demonstrate operator overloading by creating a class Vector and overriding the add method to add two vectors.\n",
        "class Vector:\n",
        "    def __init__(self, x, y):\n",
        "        self.x = x\n",
        "        self.y = y\n",
        "\n",
        "    def __add__(self, other):\n",
        "        if not isinstance(other, Vector):\n",
        "            raise TypeError(\"Operand must be an instance of Vector\")\n",
        "        return Vector(self.x + other.x, self.y + other.y)\n",
        "\n",
        "    def __str__(self):\n",
        "        return f\"Vector({self.x}, {self.y})\"\n",
        "vector1 = Vector(2, 3)\n",
        "vector2 = Vector(4, 5)\n",
        "\n",
        "\n",
        "result = vector1 + vector2\n",
        "\n",
        "\n",
        "print(f\"Vector 1: {vector1}\")\n",
        "print(f\"Vector 2: {vector2}\")\n",
        "print(f\"Result of Vector 1 + Vector 2: {result}\")"
      ],
      "metadata": {
        "colab": {
          "base_uri": "https://localhost:8080/"
        },
        "id": "69ahkMbJEKsM",
        "outputId": "f0fd31cc-251b-44cd-b0cb-d26f6171ffc9"
      },
      "execution_count": 7,
      "outputs": [
        {
          "output_type": "stream",
          "name": "stdout",
          "text": [
            "Vector 1: Vector(2, 3)\n",
            "Vector 2: Vector(4, 5)\n",
            "Result of Vector 1 + Vector 2: Vector(6, 8)\n"
          ]
        }
      ]
    },
    {
      "cell_type": "code",
      "source": [
        "#Q11: Create a class Person with attributes name and age. Add a method greet() that prints \"Hello, my name is {name} and I am {age} years old.\"\n",
        "class Person:\n",
        "    def __init__(self, name, age):\n",
        "        self.name = name\n",
        "        self.age = age\n",
        "\n",
        "    def greet(self):\n",
        "        print(f\"Hello, my name is {self.name} and I am {self.age} years old.\")\n",
        "\n",
        "person = Person(\"Alice\", 30)\n",
        "person.greet()"
      ],
      "metadata": {
        "colab": {
          "base_uri": "https://localhost:8080/"
        },
        "id": "IqGSZbKyEPh2",
        "outputId": "e54daea9-c796-4d1d-ab5f-a77a69f3ba80"
      },
      "execution_count": 8,
      "outputs": [
        {
          "output_type": "stream",
          "name": "stdout",
          "text": [
            "Hello, my name is Alice and I am 30 years old.\n"
          ]
        }
      ]
    },
    {
      "cell_type": "code",
      "source": [
        "#Q12: Implement a class Student with attributes name and grades. Create a method average_grade() to compute the average of the grades.\n",
        "class Student:\n",
        "    def __init__(self, name, grades):\n",
        "        self.name = name\n",
        "        self.grades = grades\n",
        "\n",
        "    def average_grade(self):\n",
        "        return sum(self.grades) / len(self.grades)\n",
        "\n",
        "student = Student(\"Bob\", [85, 90, 78, 92])\n",
        "print(f\"Average grade for {student.name}: {student.average_grade()}\")"
      ],
      "metadata": {
        "colab": {
          "base_uri": "https://localhost:8080/"
        },
        "id": "pOlfwhbQE1br",
        "outputId": "f2cf53e1-172d-48a1-80eb-41a5ccca5a4f"
      },
      "execution_count": 9,
      "outputs": [
        {
          "output_type": "stream",
          "name": "stdout",
          "text": [
            "Average grade for Bob: 86.25\n"
          ]
        }
      ]
    },
    {
      "cell_type": "code",
      "source": [
        "#Q13: Create a class Rectangle with methods set_dimensions() to set the dimensions and area() to calculate the area.\n",
        "class Rectangle:\n",
        "    def __init__(self, length=0, width=0):\n",
        "        self.length = length\n",
        "        self.width = width\n",
        "\n",
        "    def set_dimensions(self, length, width):\n",
        "        self.length = length\n",
        "        self.width = width\n",
        "\n",
        "    def area(self):\n",
        "        return self.length * self.width\n",
        "\n",
        "rectangle = Rectangle()\n",
        "rectangle.set_dimensions(5, 3)\n",
        "print(f\"Area of rectangle: {rectangle.area()}\")"
      ],
      "metadata": {
        "colab": {
          "base_uri": "https://localhost:8080/"
        },
        "id": "HTp3rj6wE64v",
        "outputId": "6adedbf8-c7b2-4f44-b0f0-809d4a574d5a"
      },
      "execution_count": 10,
      "outputs": [
        {
          "output_type": "stream",
          "name": "stdout",
          "text": [
            "Area of rectangle: 15\n"
          ]
        }
      ]
    },
    {
      "cell_type": "code",
      "source": [
        "#Q14: Create a class Employee with a method calculate_salary() that computes the salary based on hours worked and hourly rate.\n",
        "#Create a derived class Manager that adds a bonus to the salary.\n",
        "class Employee:\n",
        "    def __init__(self, hours_worked, hourly_rate):\n",
        "        self.hours_worked = hours_worked\n",
        "        self.hourly_rate = hourly_rate\n",
        "\n",
        "    def calculate_salary(self):\n",
        "        return self.hours_worked * self.hourly_rate\n",
        "\n",
        "class Manager(Employee):\n",
        "    def __init__(self, hours_worked, hourly_rate, bonus):\n",
        "        super().__init__(hours_worked, hourly_rate)\n",
        "        self.bonus = bonus\n",
        "\n",
        "    def calculate_salary(self):\n",
        "        return super().calculate_salary() + self.bonus\n",
        "\n",
        "employee = Employee(40, 50)\n",
        "manager = Manager(40, 50, 1000)\n",
        "print(f\"Employee salary: {employee.calculate_salary()}\")\n",
        "print(f\"Manager salary: {manager.calculate_salary()}\")"
      ],
      "metadata": {
        "colab": {
          "base_uri": "https://localhost:8080/"
        },
        "id": "eXsuRk6WE_sB",
        "outputId": "44d464d2-e6d3-436d-cde7-c24cc3221fda"
      },
      "execution_count": 11,
      "outputs": [
        {
          "output_type": "stream",
          "name": "stdout",
          "text": [
            "Employee salary: 2000\n",
            "Manager salary: 3000\n"
          ]
        }
      ]
    },
    {
      "cell_type": "code",
      "source": [
        "#Q15: Create a class Product with attributes name, price, and quantity. Implement a method total_price() that calculates the total price of the product.\n",
        "class Product:\n",
        "    def __init__(self, name, price, quantity):\n",
        "        self.name = name\n",
        "        self.price = price\n",
        "        self.quantity = quantity\n",
        "\n",
        "    def total_price(self):\n",
        "        return self.price * self.quantity\n",
        "\n",
        "product = Product(\"Laptop\", 1000, 3)\n",
        "print(f\"Total price of {product.name}: {product.total_price()}\")"
      ],
      "metadata": {
        "colab": {
          "base_uri": "https://localhost:8080/"
        },
        "id": "9UCU1e7tFG2S",
        "outputId": "7d173ab9-a86c-40d0-e2e6-0432451aa832"
      },
      "execution_count": 12,
      "outputs": [
        {
          "output_type": "stream",
          "name": "stdout",
          "text": [
            "Total price of Laptop: 3000\n"
          ]
        }
      ]
    },
    {
      "cell_type": "code",
      "source": [
        "#Q16: Create a class Animal with an abstract method sound(). Create two derived classes Cow and Sheep that implement the sound() method.\n",
        "from abc import ABC, abstractmethod\n",
        "\n",
        "class Animal(ABC):\n",
        "    @abstractmethod\n",
        "    def sound(self):\n",
        "        pass\n",
        "\n",
        "class Cow(Animal):\n",
        "    def sound(self):\n",
        "        return \"Moo!\"\n",
        "\n",
        "class Sheep(Animal):\n",
        "    def sound(self):\n",
        "        return \"Baa!\"\n",
        "\n",
        "cow = Cow()\n",
        "sheep = Sheep()\n",
        "print(f\"Cow says: {cow.sound()}\")\n",
        "print(f\"Sheep says: {sheep.sound()}\")"
      ],
      "metadata": {
        "colab": {
          "base_uri": "https://localhost:8080/"
        },
        "id": "NJjK7HcvFNyc",
        "outputId": "18445bde-5124-4ec6-e251-4c4debc94dd8"
      },
      "execution_count": 13,
      "outputs": [
        {
          "output_type": "stream",
          "name": "stdout",
          "text": [
            "Cow says: Moo!\n",
            "Sheep says: Baa!\n"
          ]
        }
      ]
    },
    {
      "cell_type": "code",
      "source": [
        "#Q17: Create a class Book with attributes title, author, and year_published.\n",
        "#Add a method get_book_info() that returns a formatted string with the book's details.\n",
        "class Book:\n",
        "    def __init__(self, title, author, year_published):\n",
        "        self.title = title\n",
        "        self.author = author\n",
        "        self.year_published = year_published\n",
        "\n",
        "    def get_book_info(self):\n",
        "        return f\"'{self.title}' by {self.author}, published in {self.year_published}\"\n",
        "\n",
        "book = Book(\"1984\", \"George Orwell\", 1949)\n",
        "print(book.get_book_info())"
      ],
      "metadata": {
        "colab": {
          "base_uri": "https://localhost:8080/"
        },
        "id": "MShXNHTGFTjx",
        "outputId": "d01baa4b-ff46-4c9c-ca55-e3524a9d0909"
      },
      "execution_count": 14,
      "outputs": [
        {
          "output_type": "stream",
          "name": "stdout",
          "text": [
            "'1984' by George Orwell, published in 1949\n"
          ]
        }
      ]
    },
    {
      "cell_type": "code",
      "source": [
        "#Q18: Create a class House with attributes address and price. Create a derived class Mansion that adds an attribute number_of_rooms.\n",
        "class House:\n",
        "    def __init__(self, address, price):\n",
        "        self.address = address\n",
        "        self.price = price\n",
        "\n",
        "class Mansion(House):\n",
        "    def __init__(self, address, price, number_of_rooms):\n",
        "        super().__init__(address, price)\n",
        "        self.number_of_rooms = number_of_rooms\n",
        "\n",
        "mansion = Mansion(\"123 Luxury Lane\", 5000000, 10)\n",
        "print(f\"Address: {mansion.address}, Price: ${mansion.price}, Rooms: {mansion.number_of_rooms}\")"
      ],
      "metadata": {
        "colab": {
          "base_uri": "https://localhost:8080/"
        },
        "id": "jGaRQ--sFd4x",
        "outputId": "9a92f295-cab9-47e6-c660-a094f0cbe028"
      },
      "execution_count": 15,
      "outputs": [
        {
          "output_type": "stream",
          "name": "stdout",
          "text": [
            "Address: 123 Luxury Lane, Price: $5000000, Rooms: 10\n"
          ]
        }
      ]
    },
    {
      "cell_type": "markdown",
      "source": [
        "#End of assignment"
      ],
      "metadata": {
        "id": "CkN9wBKlFkwn"
      }
    }
  ]
}